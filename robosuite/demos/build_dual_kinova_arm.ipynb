{
 "cells": [
  {
   "cell_type": "code",
   "execution_count": 5,
   "metadata": {},
   "outputs": [
    {
     "name": "stderr",
     "output_type": "stream",
     "text": [
      "\u001b[1m\u001b[32m[robosuite INFO] \u001b[0mLoading controller configuration from: /home/ckong35/workspaces/robosuite/robosuite/controllers/config/default/composite/basic.json (composite_controller_factory.py:121)\n"
     ]
    },
    {
     "ename": "IndexError",
     "evalue": "list index out of range",
     "output_type": "error",
     "traceback": [
      "\u001b[0;31m---------------------------------------------------------------------------\u001b[0m",
      "\u001b[0;31mIndexError\u001b[0m                                Traceback (most recent call last)",
      "Cell \u001b[0;32mIn[5], line 18\u001b[0m\n\u001b[1;32m     11\u001b[0m         \u001b[38;5;28;01mreturn\u001b[39;00m \u001b[38;5;124m\"\u001b[39m\u001b[38;5;124mOmronMobileBase\u001b[39m\u001b[38;5;124m\"\u001b[39m\n\u001b[1;32m     13\u001b[0m     \u001b[38;5;66;03m# @property\u001b[39;00m\n\u001b[1;32m     14\u001b[0m     \u001b[38;5;66;03m# def default_arms(self):\u001b[39;00m\n\u001b[1;32m     15\u001b[0m     \u001b[38;5;66;03m#     return {\"right\": \"Kinova3\"}\u001b[39;00m\n\u001b[1;32m     16\u001b[0m \n\u001b[1;32m     17\u001b[0m \u001b[38;5;66;03m# Create environment\u001b[39;00m\n\u001b[0;32m---> 18\u001b[0m env \u001b[38;5;241m=\u001b[39m \u001b[43msuite\u001b[49m\u001b[38;5;241;43m.\u001b[39;49m\u001b[43mmake\u001b[49m\u001b[43m(\u001b[49m\n\u001b[1;32m     19\u001b[0m \u001b[43m    \u001b[49m\u001b[43menv_name\u001b[49m\u001b[38;5;241;43m=\u001b[39;49m\u001b[38;5;124;43m\"\u001b[39;49m\u001b[38;5;124;43mLift\u001b[39;49m\u001b[38;5;124;43m\"\u001b[39;49m\u001b[43m,\u001b[49m\n\u001b[1;32m     20\u001b[0m \u001b[43m    \u001b[49m\u001b[43mrobots\u001b[49m\u001b[38;5;241;43m=\u001b[39;49m\u001b[43m[\u001b[49m\u001b[43m]\u001b[49m\u001b[43m,\u001b[49m\n\u001b[1;32m     21\u001b[0m \u001b[43m    \u001b[49m\u001b[43mcontroller_configs\u001b[49m\u001b[38;5;241;43m=\u001b[39;49m\u001b[43mload_composite_controller_config\u001b[49m\u001b[43m(\u001b[49m\u001b[43mcontroller\u001b[49m\u001b[38;5;241;43m=\u001b[39;49m\u001b[38;5;124;43m\"\u001b[39;49m\u001b[38;5;124;43mBASIC\u001b[39;49m\u001b[38;5;124;43m\"\u001b[39;49m\u001b[43m)\u001b[49m\u001b[43m,\u001b[49m\n\u001b[1;32m     22\u001b[0m \u001b[43m    \u001b[49m\u001b[43mhas_renderer\u001b[49m\u001b[38;5;241;43m=\u001b[39;49m\u001b[38;5;28;43;01mTrue\u001b[39;49;00m\u001b[43m,\u001b[49m\n\u001b[1;32m     23\u001b[0m \u001b[43m    \u001b[49m\u001b[43mhas_offscreen_renderer\u001b[49m\u001b[38;5;241;43m=\u001b[39;49m\u001b[38;5;28;43;01mFalse\u001b[39;49;00m\u001b[43m,\u001b[49m\n\u001b[1;32m     24\u001b[0m \u001b[43m    \u001b[49m\u001b[43mrender_camera\u001b[49m\u001b[38;5;241;43m=\u001b[39;49m\u001b[38;5;124;43m\"\u001b[39;49m\u001b[38;5;124;43magentview\u001b[39;49m\u001b[38;5;124;43m\"\u001b[39;49m\u001b[43m,\u001b[49m\n\u001b[1;32m     25\u001b[0m \u001b[43m    \u001b[49m\u001b[43muse_camera_obs\u001b[49m\u001b[38;5;241;43m=\u001b[39;49m\u001b[38;5;28;43;01mFalse\u001b[39;49;00m\u001b[43m,\u001b[49m\n\u001b[1;32m     26\u001b[0m \u001b[43m    \u001b[49m\u001b[43mcontrol_freq\u001b[49m\u001b[38;5;241;43m=\u001b[39;49m\u001b[38;5;241;43m20\u001b[39;49m\u001b[43m,\u001b[49m\n\u001b[1;32m     27\u001b[0m \u001b[43m)\u001b[49m\n\u001b[1;32m     29\u001b[0m \u001b[38;5;66;03m# Run the simulation, and visualize it\u001b[39;00m\n\u001b[1;32m     30\u001b[0m env\u001b[38;5;241m.\u001b[39mreset()\n",
      "File \u001b[0;32m~/workspaces/robosuite/robosuite/environments/base.py:41\u001b[0m, in \u001b[0;36mmake\u001b[0;34m(env_name, *args, **kwargs)\u001b[0m\n\u001b[1;32m     35\u001b[0m \u001b[38;5;28;01mif\u001b[39;00m env_name \u001b[38;5;129;01mnot\u001b[39;00m \u001b[38;5;129;01min\u001b[39;00m REGISTERED_ENVS:\n\u001b[1;32m     36\u001b[0m     \u001b[38;5;28;01mraise\u001b[39;00m \u001b[38;5;167;01mException\u001b[39;00m(\n\u001b[1;32m     37\u001b[0m         \u001b[38;5;124m\"\u001b[39m\u001b[38;5;124mEnvironment \u001b[39m\u001b[38;5;132;01m{}\u001b[39;00m\u001b[38;5;124m not found. Make sure it is a registered environment among: \u001b[39m\u001b[38;5;132;01m{}\u001b[39;00m\u001b[38;5;124m\"\u001b[39m\u001b[38;5;241m.\u001b[39mformat(\n\u001b[1;32m     38\u001b[0m             env_name, \u001b[38;5;124m\"\u001b[39m\u001b[38;5;124m, \u001b[39m\u001b[38;5;124m\"\u001b[39m\u001b[38;5;241m.\u001b[39mjoin(REGISTERED_ENVS)\n\u001b[1;32m     39\u001b[0m         )\n\u001b[1;32m     40\u001b[0m     )\n\u001b[0;32m---> 41\u001b[0m \u001b[38;5;28;01mreturn\u001b[39;00m \u001b[43mREGISTERED_ENVS\u001b[49m\u001b[43m[\u001b[49m\u001b[43menv_name\u001b[49m\u001b[43m]\u001b[49m\u001b[43m(\u001b[49m\u001b[38;5;241;43m*\u001b[39;49m\u001b[43margs\u001b[49m\u001b[43m,\u001b[49m\u001b[43m \u001b[49m\u001b[38;5;241;43m*\u001b[39;49m\u001b[38;5;241;43m*\u001b[39;49m\u001b[43mkwargs\u001b[49m\u001b[43m)\u001b[49m\n",
      "File \u001b[0;32m~/workspaces/robosuite/robosuite/environments/manipulation/lift.py:187\u001b[0m, in \u001b[0;36mLift.__init__\u001b[0;34m(self, robots, env_configuration, controller_configs, gripper_types, initialization_noise, table_full_size, table_friction, use_camera_obs, use_object_obs, reward_scale, reward_shaping, placement_initializer, has_renderer, has_offscreen_renderer, render_camera, render_collision_mesh, render_visual_mesh, render_gpu_device_id, control_freq, lite_physics, horizon, ignore_done, hard_reset, camera_names, camera_heights, camera_widths, camera_depths, camera_segmentations, renderer, renderer_config)\u001b[0m\n\u001b[1;32m    184\u001b[0m \u001b[38;5;66;03m# object placement initializer\u001b[39;00m\n\u001b[1;32m    185\u001b[0m \u001b[38;5;28mself\u001b[39m\u001b[38;5;241m.\u001b[39mplacement_initializer \u001b[38;5;241m=\u001b[39m placement_initializer\n\u001b[0;32m--> 187\u001b[0m \u001b[38;5;28;43msuper\u001b[39;49m\u001b[43m(\u001b[49m\u001b[43m)\u001b[49m\u001b[38;5;241;43m.\u001b[39;49m\u001b[38;5;21;43m__init__\u001b[39;49m\u001b[43m(\u001b[49m\n\u001b[1;32m    188\u001b[0m \u001b[43m    \u001b[49m\u001b[43mrobots\u001b[49m\u001b[38;5;241;43m=\u001b[39;49m\u001b[43mrobots\u001b[49m\u001b[43m,\u001b[49m\n\u001b[1;32m    189\u001b[0m \u001b[43m    \u001b[49m\u001b[43menv_configuration\u001b[49m\u001b[38;5;241;43m=\u001b[39;49m\u001b[43menv_configuration\u001b[49m\u001b[43m,\u001b[49m\n\u001b[1;32m    190\u001b[0m \u001b[43m    \u001b[49m\u001b[43mcontroller_configs\u001b[49m\u001b[38;5;241;43m=\u001b[39;49m\u001b[43mcontroller_configs\u001b[49m\u001b[43m,\u001b[49m\n\u001b[1;32m    191\u001b[0m \u001b[43m    \u001b[49m\u001b[43mbase_types\u001b[49m\u001b[38;5;241;43m=\u001b[39;49m\u001b[38;5;124;43m\"\u001b[39;49m\u001b[38;5;124;43mdefault\u001b[39;49m\u001b[38;5;124;43m\"\u001b[39;49m\u001b[43m,\u001b[49m\n\u001b[1;32m    192\u001b[0m \u001b[43m    \u001b[49m\u001b[43mgripper_types\u001b[49m\u001b[38;5;241;43m=\u001b[39;49m\u001b[43mgripper_types\u001b[49m\u001b[43m,\u001b[49m\n\u001b[1;32m    193\u001b[0m \u001b[43m    \u001b[49m\u001b[43minitialization_noise\u001b[49m\u001b[38;5;241;43m=\u001b[39;49m\u001b[43minitialization_noise\u001b[49m\u001b[43m,\u001b[49m\n\u001b[1;32m    194\u001b[0m \u001b[43m    \u001b[49m\u001b[43muse_camera_obs\u001b[49m\u001b[38;5;241;43m=\u001b[39;49m\u001b[43muse_camera_obs\u001b[49m\u001b[43m,\u001b[49m\n\u001b[1;32m    195\u001b[0m \u001b[43m    \u001b[49m\u001b[43mhas_renderer\u001b[49m\u001b[38;5;241;43m=\u001b[39;49m\u001b[43mhas_renderer\u001b[49m\u001b[43m,\u001b[49m\n\u001b[1;32m    196\u001b[0m \u001b[43m    \u001b[49m\u001b[43mhas_offscreen_renderer\u001b[49m\u001b[38;5;241;43m=\u001b[39;49m\u001b[43mhas_offscreen_renderer\u001b[49m\u001b[43m,\u001b[49m\n\u001b[1;32m    197\u001b[0m \u001b[43m    \u001b[49m\u001b[43mrender_camera\u001b[49m\u001b[38;5;241;43m=\u001b[39;49m\u001b[43mrender_camera\u001b[49m\u001b[43m,\u001b[49m\n\u001b[1;32m    198\u001b[0m \u001b[43m    \u001b[49m\u001b[43mrender_collision_mesh\u001b[49m\u001b[38;5;241;43m=\u001b[39;49m\u001b[43mrender_collision_mesh\u001b[49m\u001b[43m,\u001b[49m\n\u001b[1;32m    199\u001b[0m \u001b[43m    \u001b[49m\u001b[43mrender_visual_mesh\u001b[49m\u001b[38;5;241;43m=\u001b[39;49m\u001b[43mrender_visual_mesh\u001b[49m\u001b[43m,\u001b[49m\n\u001b[1;32m    200\u001b[0m \u001b[43m    \u001b[49m\u001b[43mrender_gpu_device_id\u001b[49m\u001b[38;5;241;43m=\u001b[39;49m\u001b[43mrender_gpu_device_id\u001b[49m\u001b[43m,\u001b[49m\n\u001b[1;32m    201\u001b[0m \u001b[43m    \u001b[49m\u001b[43mcontrol_freq\u001b[49m\u001b[38;5;241;43m=\u001b[39;49m\u001b[43mcontrol_freq\u001b[49m\u001b[43m,\u001b[49m\n\u001b[1;32m    202\u001b[0m \u001b[43m    \u001b[49m\u001b[43mlite_physics\u001b[49m\u001b[38;5;241;43m=\u001b[39;49m\u001b[43mlite_physics\u001b[49m\u001b[43m,\u001b[49m\n\u001b[1;32m    203\u001b[0m \u001b[43m    \u001b[49m\u001b[43mhorizon\u001b[49m\u001b[38;5;241;43m=\u001b[39;49m\u001b[43mhorizon\u001b[49m\u001b[43m,\u001b[49m\n\u001b[1;32m    204\u001b[0m \u001b[43m    \u001b[49m\u001b[43mignore_done\u001b[49m\u001b[38;5;241;43m=\u001b[39;49m\u001b[43mignore_done\u001b[49m\u001b[43m,\u001b[49m\n\u001b[1;32m    205\u001b[0m \u001b[43m    \u001b[49m\u001b[43mhard_reset\u001b[49m\u001b[38;5;241;43m=\u001b[39;49m\u001b[43mhard_reset\u001b[49m\u001b[43m,\u001b[49m\n\u001b[1;32m    206\u001b[0m \u001b[43m    \u001b[49m\u001b[43mcamera_names\u001b[49m\u001b[38;5;241;43m=\u001b[39;49m\u001b[43mcamera_names\u001b[49m\u001b[43m,\u001b[49m\n\u001b[1;32m    207\u001b[0m \u001b[43m    \u001b[49m\u001b[43mcamera_heights\u001b[49m\u001b[38;5;241;43m=\u001b[39;49m\u001b[43mcamera_heights\u001b[49m\u001b[43m,\u001b[49m\n\u001b[1;32m    208\u001b[0m \u001b[43m    \u001b[49m\u001b[43mcamera_widths\u001b[49m\u001b[38;5;241;43m=\u001b[39;49m\u001b[43mcamera_widths\u001b[49m\u001b[43m,\u001b[49m\n\u001b[1;32m    209\u001b[0m \u001b[43m    \u001b[49m\u001b[43mcamera_depths\u001b[49m\u001b[38;5;241;43m=\u001b[39;49m\u001b[43mcamera_depths\u001b[49m\u001b[43m,\u001b[49m\n\u001b[1;32m    210\u001b[0m \u001b[43m    \u001b[49m\u001b[43mcamera_segmentations\u001b[49m\u001b[38;5;241;43m=\u001b[39;49m\u001b[43mcamera_segmentations\u001b[49m\u001b[43m,\u001b[49m\n\u001b[1;32m    211\u001b[0m \u001b[43m    \u001b[49m\u001b[43mrenderer\u001b[49m\u001b[38;5;241;43m=\u001b[39;49m\u001b[43mrenderer\u001b[49m\u001b[43m,\u001b[49m\n\u001b[1;32m    212\u001b[0m \u001b[43m    \u001b[49m\u001b[43mrenderer_config\u001b[49m\u001b[38;5;241;43m=\u001b[39;49m\u001b[43mrenderer_config\u001b[49m\u001b[43m,\u001b[49m\n\u001b[1;32m    213\u001b[0m \u001b[43m\u001b[49m\u001b[43m)\u001b[49m\n",
      "File \u001b[0;32m~/workspaces/robosuite/robosuite/environments/manipulation/manipulation_env.py:172\u001b[0m, in \u001b[0;36mManipulationEnv.__init__\u001b[0;34m(self, robots, env_configuration, controller_configs, base_types, gripper_types, initialization_noise, use_camera_obs, has_renderer, has_offscreen_renderer, render_camera, render_collision_mesh, render_visual_mesh, render_gpu_device_id, control_freq, lite_physics, horizon, ignore_done, hard_reset, camera_names, camera_heights, camera_widths, camera_depths, camera_segmentations, renderer, renderer_config, seed)\u001b[0m\n\u001b[1;32m    164\u001b[0m robot_configs \u001b[38;5;241m=\u001b[39m [\n\u001b[1;32m    165\u001b[0m     {\n\u001b[1;32m    166\u001b[0m         \u001b[38;5;124m\"\u001b[39m\u001b[38;5;124mgripper_type\u001b[39m\u001b[38;5;124m\"\u001b[39m: gripper_types[idx],\n\u001b[1;32m    167\u001b[0m     }\n\u001b[1;32m    168\u001b[0m     \u001b[38;5;28;01mfor\u001b[39;00m idx \u001b[38;5;129;01min\u001b[39;00m \u001b[38;5;28mrange\u001b[39m(num_robots)\n\u001b[1;32m    169\u001b[0m ]\n\u001b[1;32m    171\u001b[0m \u001b[38;5;66;03m# Run superclass init\u001b[39;00m\n\u001b[0;32m--> 172\u001b[0m \u001b[38;5;28;43msuper\u001b[39;49m\u001b[43m(\u001b[49m\u001b[43m)\u001b[49m\u001b[38;5;241;43m.\u001b[39;49m\u001b[38;5;21;43m__init__\u001b[39;49m\u001b[43m(\u001b[49m\n\u001b[1;32m    173\u001b[0m \u001b[43m    \u001b[49m\u001b[43mrobots\u001b[49m\u001b[38;5;241;43m=\u001b[39;49m\u001b[43mrobots\u001b[49m\u001b[43m,\u001b[49m\n\u001b[1;32m    174\u001b[0m \u001b[43m    \u001b[49m\u001b[43menv_configuration\u001b[49m\u001b[38;5;241;43m=\u001b[39;49m\u001b[43menv_configuration\u001b[49m\u001b[43m,\u001b[49m\n\u001b[1;32m    175\u001b[0m \u001b[43m    \u001b[49m\u001b[43mcontroller_configs\u001b[49m\u001b[38;5;241;43m=\u001b[39;49m\u001b[43mcontroller_configs\u001b[49m\u001b[43m,\u001b[49m\n\u001b[1;32m    176\u001b[0m \u001b[43m    \u001b[49m\u001b[43mbase_types\u001b[49m\u001b[38;5;241;43m=\u001b[39;49m\u001b[43mbase_types\u001b[49m\u001b[43m,\u001b[49m\n\u001b[1;32m    177\u001b[0m \u001b[43m    \u001b[49m\u001b[43minitialization_noise\u001b[49m\u001b[38;5;241;43m=\u001b[39;49m\u001b[43minitialization_noise\u001b[49m\u001b[43m,\u001b[49m\n\u001b[1;32m    178\u001b[0m \u001b[43m    \u001b[49m\u001b[43muse_camera_obs\u001b[49m\u001b[38;5;241;43m=\u001b[39;49m\u001b[43muse_camera_obs\u001b[49m\u001b[43m,\u001b[49m\n\u001b[1;32m    179\u001b[0m \u001b[43m    \u001b[49m\u001b[43mhas_renderer\u001b[49m\u001b[38;5;241;43m=\u001b[39;49m\u001b[43mhas_renderer\u001b[49m\u001b[43m,\u001b[49m\n\u001b[1;32m    180\u001b[0m \u001b[43m    \u001b[49m\u001b[43mhas_offscreen_renderer\u001b[49m\u001b[38;5;241;43m=\u001b[39;49m\u001b[43mhas_offscreen_renderer\u001b[49m\u001b[43m,\u001b[49m\n\u001b[1;32m    181\u001b[0m \u001b[43m    \u001b[49m\u001b[43mrender_camera\u001b[49m\u001b[38;5;241;43m=\u001b[39;49m\u001b[43mrender_camera\u001b[49m\u001b[43m,\u001b[49m\n\u001b[1;32m    182\u001b[0m \u001b[43m    \u001b[49m\u001b[43mrender_collision_mesh\u001b[49m\u001b[38;5;241;43m=\u001b[39;49m\u001b[43mrender_collision_mesh\u001b[49m\u001b[43m,\u001b[49m\n\u001b[1;32m    183\u001b[0m \u001b[43m    \u001b[49m\u001b[43mrender_visual_mesh\u001b[49m\u001b[38;5;241;43m=\u001b[39;49m\u001b[43mrender_visual_mesh\u001b[49m\u001b[43m,\u001b[49m\n\u001b[1;32m    184\u001b[0m \u001b[43m    \u001b[49m\u001b[43mrender_gpu_device_id\u001b[49m\u001b[38;5;241;43m=\u001b[39;49m\u001b[43mrender_gpu_device_id\u001b[49m\u001b[43m,\u001b[49m\n\u001b[1;32m    185\u001b[0m \u001b[43m    \u001b[49m\u001b[43mcontrol_freq\u001b[49m\u001b[38;5;241;43m=\u001b[39;49m\u001b[43mcontrol_freq\u001b[49m\u001b[43m,\u001b[49m\n\u001b[1;32m    186\u001b[0m \u001b[43m    \u001b[49m\u001b[43mlite_physics\u001b[49m\u001b[38;5;241;43m=\u001b[39;49m\u001b[43mlite_physics\u001b[49m\u001b[43m,\u001b[49m\n\u001b[1;32m    187\u001b[0m \u001b[43m    \u001b[49m\u001b[43mhorizon\u001b[49m\u001b[38;5;241;43m=\u001b[39;49m\u001b[43mhorizon\u001b[49m\u001b[43m,\u001b[49m\n\u001b[1;32m    188\u001b[0m \u001b[43m    \u001b[49m\u001b[43mignore_done\u001b[49m\u001b[38;5;241;43m=\u001b[39;49m\u001b[43mignore_done\u001b[49m\u001b[43m,\u001b[49m\n\u001b[1;32m    189\u001b[0m \u001b[43m    \u001b[49m\u001b[43mhard_reset\u001b[49m\u001b[38;5;241;43m=\u001b[39;49m\u001b[43mhard_reset\u001b[49m\u001b[43m,\u001b[49m\n\u001b[1;32m    190\u001b[0m \u001b[43m    \u001b[49m\u001b[43mcamera_names\u001b[49m\u001b[38;5;241;43m=\u001b[39;49m\u001b[43mcamera_names\u001b[49m\u001b[43m,\u001b[49m\n\u001b[1;32m    191\u001b[0m \u001b[43m    \u001b[49m\u001b[43mcamera_heights\u001b[49m\u001b[38;5;241;43m=\u001b[39;49m\u001b[43mcamera_heights\u001b[49m\u001b[43m,\u001b[49m\n\u001b[1;32m    192\u001b[0m \u001b[43m    \u001b[49m\u001b[43mcamera_widths\u001b[49m\u001b[38;5;241;43m=\u001b[39;49m\u001b[43mcamera_widths\u001b[49m\u001b[43m,\u001b[49m\n\u001b[1;32m    193\u001b[0m \u001b[43m    \u001b[49m\u001b[43mcamera_depths\u001b[49m\u001b[38;5;241;43m=\u001b[39;49m\u001b[43mcamera_depths\u001b[49m\u001b[43m,\u001b[49m\n\u001b[1;32m    194\u001b[0m \u001b[43m    \u001b[49m\u001b[43mcamera_segmentations\u001b[49m\u001b[38;5;241;43m=\u001b[39;49m\u001b[43mcamera_segmentations\u001b[49m\u001b[43m,\u001b[49m\n\u001b[1;32m    195\u001b[0m \u001b[43m    \u001b[49m\u001b[43mrobot_configs\u001b[49m\u001b[38;5;241;43m=\u001b[39;49m\u001b[43mrobot_configs\u001b[49m\u001b[43m,\u001b[49m\n\u001b[1;32m    196\u001b[0m \u001b[43m    \u001b[49m\u001b[43mrenderer\u001b[49m\u001b[38;5;241;43m=\u001b[39;49m\u001b[43mrenderer\u001b[49m\u001b[43m,\u001b[49m\n\u001b[1;32m    197\u001b[0m \u001b[43m    \u001b[49m\u001b[43mrenderer_config\u001b[49m\u001b[38;5;241;43m=\u001b[39;49m\u001b[43mrenderer_config\u001b[49m\u001b[43m,\u001b[49m\n\u001b[1;32m    198\u001b[0m \u001b[43m    \u001b[49m\u001b[43mseed\u001b[49m\u001b[38;5;241;43m=\u001b[39;49m\u001b[43mseed\u001b[49m\u001b[43m,\u001b[49m\n\u001b[1;32m    199\u001b[0m \u001b[43m\u001b[49m\u001b[43m)\u001b[49m\n",
      "File \u001b[0;32m~/workspaces/robosuite/robosuite/environments/robot_env.py:221\u001b[0m, in \u001b[0;36mRobotEnv.__init__\u001b[0;34m(self, robots, env_configuration, base_types, controller_configs, initialization_noise, use_camera_obs, has_renderer, has_offscreen_renderer, render_camera, render_collision_mesh, render_visual_mesh, render_gpu_device_id, control_freq, lite_physics, horizon, ignore_done, hard_reset, camera_names, camera_heights, camera_widths, camera_depths, camera_segmentations, robot_configs, renderer, renderer_config, seed)\u001b[0m\n\u001b[1;32m    206\u001b[0m \u001b[38;5;28mself\u001b[39m\u001b[38;5;241m.\u001b[39mrobot_configs \u001b[38;5;241m=\u001b[39m [\n\u001b[1;32m    207\u001b[0m     \u001b[38;5;28mdict\u001b[39m(\n\u001b[1;32m    208\u001b[0m         \u001b[38;5;241m*\u001b[39m\u001b[38;5;241m*\u001b[39m{\n\u001b[0;32m   (...)\u001b[0m\n\u001b[1;32m    217\u001b[0m     \u001b[38;5;28;01mfor\u001b[39;00m idx, robot_config \u001b[38;5;129;01min\u001b[39;00m \u001b[38;5;28menumerate\u001b[39m(robot_configs)\n\u001b[1;32m    218\u001b[0m ]\n\u001b[1;32m    220\u001b[0m \u001b[38;5;66;03m# Run superclass init\u001b[39;00m\n\u001b[0;32m--> 221\u001b[0m \u001b[38;5;28;43msuper\u001b[39;49m\u001b[43m(\u001b[49m\u001b[43m)\u001b[49m\u001b[38;5;241;43m.\u001b[39;49m\u001b[38;5;21;43m__init__\u001b[39;49m\u001b[43m(\u001b[49m\n\u001b[1;32m    222\u001b[0m \u001b[43m    \u001b[49m\u001b[43mhas_renderer\u001b[49m\u001b[38;5;241;43m=\u001b[39;49m\u001b[43mhas_renderer\u001b[49m\u001b[43m,\u001b[49m\n\u001b[1;32m    223\u001b[0m \u001b[43m    \u001b[49m\u001b[43mhas_offscreen_renderer\u001b[49m\u001b[38;5;241;43m=\u001b[39;49m\u001b[38;5;28;43mself\u001b[39;49m\u001b[38;5;241;43m.\u001b[39;49m\u001b[43mhas_offscreen_renderer\u001b[49m\u001b[43m,\u001b[49m\n\u001b[1;32m    224\u001b[0m \u001b[43m    \u001b[49m\u001b[43mrender_camera\u001b[49m\u001b[38;5;241;43m=\u001b[39;49m\u001b[43mrender_camera\u001b[49m\u001b[43m,\u001b[49m\n\u001b[1;32m    225\u001b[0m \u001b[43m    \u001b[49m\u001b[43mrender_collision_mesh\u001b[49m\u001b[38;5;241;43m=\u001b[39;49m\u001b[43mrender_collision_mesh\u001b[49m\u001b[43m,\u001b[49m\n\u001b[1;32m    226\u001b[0m \u001b[43m    \u001b[49m\u001b[43mrender_visual_mesh\u001b[49m\u001b[38;5;241;43m=\u001b[39;49m\u001b[43mrender_visual_mesh\u001b[49m\u001b[43m,\u001b[49m\n\u001b[1;32m    227\u001b[0m \u001b[43m    \u001b[49m\u001b[43mrender_gpu_device_id\u001b[49m\u001b[38;5;241;43m=\u001b[39;49m\u001b[43mrender_gpu_device_id\u001b[49m\u001b[43m,\u001b[49m\n\u001b[1;32m    228\u001b[0m \u001b[43m    \u001b[49m\u001b[43mcontrol_freq\u001b[49m\u001b[38;5;241;43m=\u001b[39;49m\u001b[43mcontrol_freq\u001b[49m\u001b[43m,\u001b[49m\n\u001b[1;32m    229\u001b[0m \u001b[43m    \u001b[49m\u001b[43mlite_physics\u001b[49m\u001b[38;5;241;43m=\u001b[39;49m\u001b[43mlite_physics\u001b[49m\u001b[43m,\u001b[49m\n\u001b[1;32m    230\u001b[0m \u001b[43m    \u001b[49m\u001b[43mhorizon\u001b[49m\u001b[38;5;241;43m=\u001b[39;49m\u001b[43mhorizon\u001b[49m\u001b[43m,\u001b[49m\n\u001b[1;32m    231\u001b[0m \u001b[43m    \u001b[49m\u001b[43mignore_done\u001b[49m\u001b[38;5;241;43m=\u001b[39;49m\u001b[43mignore_done\u001b[49m\u001b[43m,\u001b[49m\n\u001b[1;32m    232\u001b[0m \u001b[43m    \u001b[49m\u001b[43mhard_reset\u001b[49m\u001b[38;5;241;43m=\u001b[39;49m\u001b[43mhard_reset\u001b[49m\u001b[43m,\u001b[49m\n\u001b[1;32m    233\u001b[0m \u001b[43m    \u001b[49m\u001b[43mrenderer\u001b[49m\u001b[38;5;241;43m=\u001b[39;49m\u001b[43mrenderer\u001b[49m\u001b[43m,\u001b[49m\n\u001b[1;32m    234\u001b[0m \u001b[43m    \u001b[49m\u001b[43mrenderer_config\u001b[49m\u001b[38;5;241;43m=\u001b[39;49m\u001b[43mrenderer_config\u001b[49m\u001b[43m,\u001b[49m\n\u001b[1;32m    235\u001b[0m \u001b[43m    \u001b[49m\u001b[43mseed\u001b[49m\u001b[38;5;241;43m=\u001b[39;49m\u001b[43mseed\u001b[49m\u001b[43m,\u001b[49m\n\u001b[1;32m    236\u001b[0m \u001b[43m\u001b[49m\u001b[43m)\u001b[49m\n",
      "File \u001b[0;32m~/workspaces/robosuite/robosuite/environments/base.py:144\u001b[0m, in \u001b[0;36mMujocoEnv.__init__\u001b[0;34m(self, has_renderer, has_offscreen_renderer, render_camera, render_collision_mesh, render_visual_mesh, render_gpu_device_id, control_freq, lite_physics, horizon, ignore_done, hard_reset, renderer, renderer_config, seed)\u001b[0m\n\u001b[1;32m    141\u001b[0m \u001b[38;5;28mself\u001b[39m\u001b[38;5;241m.\u001b[39m_ep_meta \u001b[38;5;241m=\u001b[39m {}\n\u001b[1;32m    143\u001b[0m \u001b[38;5;66;03m# Load the model\u001b[39;00m\n\u001b[0;32m--> 144\u001b[0m \u001b[38;5;28;43mself\u001b[39;49m\u001b[38;5;241;43m.\u001b[39;49m\u001b[43m_load_model\u001b[49m\u001b[43m(\u001b[49m\u001b[43m)\u001b[49m\n\u001b[1;32m    146\u001b[0m \u001b[38;5;66;03m# Initialize the simulation\u001b[39;00m\n\u001b[1;32m    147\u001b[0m \u001b[38;5;28mself\u001b[39m\u001b[38;5;241m.\u001b[39m_initialize_sim()\n",
      "File \u001b[0;32m~/workspaces/robosuite/robosuite/environments/manipulation/lift.py:273\u001b[0m, in \u001b[0;36mLift._load_model\u001b[0;34m(self)\u001b[0m\n\u001b[1;32m    270\u001b[0m \u001b[38;5;28msuper\u001b[39m()\u001b[38;5;241m.\u001b[39m_load_model()\n\u001b[1;32m    272\u001b[0m \u001b[38;5;66;03m# Adjust base pose accordingly\u001b[39;00m\n\u001b[0;32m--> 273\u001b[0m xpos \u001b[38;5;241m=\u001b[39m \u001b[38;5;28;43mself\u001b[39;49m\u001b[38;5;241;43m.\u001b[39;49m\u001b[43mrobots\u001b[49m\u001b[43m[\u001b[49m\u001b[38;5;241;43m0\u001b[39;49m\u001b[43m]\u001b[49m\u001b[38;5;241m.\u001b[39mrobot_model\u001b[38;5;241m.\u001b[39mbase_xpos_offset[\u001b[38;5;124m\"\u001b[39m\u001b[38;5;124mtable\u001b[39m\u001b[38;5;124m\"\u001b[39m](\u001b[38;5;28mself\u001b[39m\u001b[38;5;241m.\u001b[39mtable_full_size[\u001b[38;5;241m0\u001b[39m])\n\u001b[1;32m    274\u001b[0m \u001b[38;5;28mself\u001b[39m\u001b[38;5;241m.\u001b[39mrobots[\u001b[38;5;241m0\u001b[39m]\u001b[38;5;241m.\u001b[39mrobot_model\u001b[38;5;241m.\u001b[39mset_base_xpos(xpos)\n\u001b[1;32m    276\u001b[0m \u001b[38;5;66;03m# load model for table top workspace\u001b[39;00m\n",
      "\u001b[0;31mIndexError\u001b[0m: list index out of range"
     ]
    }
   ],
   "source": [
    "from robosuite.robots import register_robot_class\n",
    "from robosuite.models.robots import Kinova3\n",
    "import robosuite as suite\n",
    "from robosuite.controllers import load_composite_controller_config\n",
    "import mujoco\n",
    "\n",
    "@register_robot_class(\"WheeledRobot\")\n",
    "class MobileKinova(Kinova3):\n",
    "    @property # the property alwasys return the string \"OmronMobileBase\" and can be called without parentheses\n",
    "    def default_base(self):\n",
    "        return \"OmronMobileBase\"\n",
    "\n",
    "    # @property\n",
    "    # def default_arms(self):\n",
    "    #     return {\"right\": \"Kinova3\"}\n",
    "\n",
    "# Create environment\n",
    "env = suite.make(\n",
    "    env_name=\"Lift\",\n",
    "    robots=[],\n",
    "    controller_configs=load_composite_controller_config(controller=\"BASIC\"),\n",
    "    has_renderer=True,\n",
    "    has_offscreen_renderer=False,\n",
    "    render_camera=\"agentview\",\n",
    "    use_camera_obs=False,\n",
    "    control_freq=20,\n",
    ")\n",
    "\n",
    "# Run the simulation, and visualize it\n",
    "env.reset()\n",
    "mujoco.viewer.launch(env.sim.model._model, env.sim.data._data)"
   ]
  },
  {
   "cell_type": "code",
   "execution_count": 7,
   "metadata": {},
   "outputs": [
    {
     "name": "stderr",
     "output_type": "stream",
     "text": [
      "\u001b[1m\u001b[32m[robosuite INFO] \u001b[0mLoading controller configuration from: /home/ckong35/workspaces/robosuite/robosuite/controllers/config/default/composite/basic.json (composite_controller_factory.py:121)\n",
      "\u001b[1m\u001b[33m[robosuite WARNING] \u001b[0mThe config has defined for the controller \"head\", but the robot does not have this component. Skipping, but make sure this is intended.Removing the controller config for head from self.part_controller_config. (robot.py:151)\n",
      "\u001b[1m\u001b[33m[robosuite WARNING] \u001b[0mThe config has defined for the controller \"legs\", but the robot does not have this component. Skipping, but make sure this is intended.Removing the controller config for legs from self.part_controller_config. (robot.py:151)\n",
      "\u001b[1m\u001b[33m[robosuite WARNING] \u001b[0mThe config has defined for the controller \"head\", but the robot does not have this component. Skipping, but make sure this is intended.Removing the controller config for head from self.part_controller_config. (robot.py:151)\n",
      "\u001b[1m\u001b[33m[robosuite WARNING] \u001b[0mThe config has defined for the controller \"legs\", but the robot does not have this component. Skipping, but make sure this is intended.Removing the controller config for legs from self.part_controller_config. (robot.py:151)\n"
     ]
    }
   ],
   "source": [
    "from robosuite.robots import register_robot_class\n",
    "from robosuite_models.robots import Yumi\n",
    "import robosuite as suite\n",
    "from robosuite.controllers import load_composite_controller_config\n",
    "import mujoco\n",
    "\n",
    "@register_robot_class(\"WheeledRobot\")\n",
    "class MobileYumi(Yumi):\n",
    "    @property # the property alwasys return the string \"OmronMobileBase\" and can be called without parentheses\n",
    "    def default_base(self):\n",
    "        return \"OmronMobileBase\"\n",
    "\n",
    "    # def set_base_xpos(self, xpos):\n",
    "    #     # Convert tuple to list to modify it\n",
    "    #     xpos = list(xpos)\n",
    "    #     # Move the base 0.3 meters above the current location\n",
    "    #     xpos[2] += 0.3\n",
    "    #     # Convert back to tuple if necessary\n",
    "    #     xpos = tuple(xpos)\n",
    "    #     super().set_base_xpos(xpos)\n",
    "\n",
    "\n",
    "# Create environment\n",
    "env = suite.make(\n",
    "    env_name=\"Lift\",\n",
    "    robots=\"MobileYumi\",\n",
    "    controller_configs=load_composite_controller_config(controller=\"BASIC\"),\n",
    "    has_renderer=True,\n",
    "    has_offscreen_renderer=False,\n",
    "    render_camera=\"agentview\",\n",
    "    use_camera_obs=False,\n",
    "    control_freq=20,\n",
    ")\n",
    "\n",
    "# Run the simulation, and visualize it\n",
    "env.reset()\n",
    "mujoco.viewer.launch(env.sim.model._model, env.sim.data._data)"
   ]
  },
  {
   "cell_type": "markdown",
   "metadata": {},
   "source": [
    "(01/21/25) The file of the vention base has been centered and converted to STL, tomorrow will include it into the xml file. Might want to investigate why the addition of mobile base is bad all fixed"
   ]
  },
  {
   "cell_type": "code",
   "execution_count": 6,
   "metadata": {},
   "outputs": [
    {
     "name": "stderr",
     "output_type": "stream",
     "text": [
      "\u001b[1m\u001b[32m[robosuite INFO] \u001b[0mLoading controller configuration from: /home/ckong35/workspaces/robosuite/robosuite/controllers/config/robots/default_dualkinova3.json (composite_controller_factory.py:121)\n",
      "\u001b[1m\u001b[32m[robosuite INFO] \u001b[0mLoading controller configuration from: /home/ckong35/workspaces/robosuite/robosuite/controllers/config/robots/default_dualkinova3.json (composite_controller_factory.py:121)\n"
     ]
    }
   ],
   "source": [
    "from robosuite.robots import register_robot_class\n",
    "from robosuite.models.robots import DualKinova3\n",
    "import robosuite as suite\n",
    "from robosuite.controllers import load_composite_controller_config\n",
    "import mujoco\n",
    "\n",
    "@register_robot_class(\"WheeledRobot\")\n",
    "class MobileKinova(DualKinova3):\n",
    "    @property # the property alwasys return the string \"OmronMobileBase\" and can be called without parentheses\n",
    "    def default_base(self):\n",
    "        return \"OmronMobileBase\"\n",
    "\n",
    "\n",
    "# Create environment\n",
    "env = suite.make(\n",
    "    env_name=\"Lift\",\n",
    "    # robots=\"MobileKinova\",\n",
    "    robots=\"DualKinova3\",\n",
    "    controller_configs=load_composite_controller_config(controller=\"BASIC\"),\n",
    "    has_renderer=True,\n",
    "    has_offscreen_renderer=False,\n",
    "    render_camera=\"frontview\",\n",
    "    use_camera_obs=False,\n",
    "    control_freq=20,\n",
    ")\n",
    "\n",
    "# Run the simulation, and visualize it\n",
    "env.reset()\n",
    "mujoco.viewer.launch(env.sim.model._model, env.sim.data._data)"
   ]
  },
  {
   "cell_type": "markdown",
   "metadata": {},
   "source": [
    "(01/22/25) Next explore controller and see if I can use the manipulability elipsoid to generate trajectory that smack a point in 3d space "
   ]
  },
  {
   "cell_type": "markdown",
   "metadata": {},
   "source": [
    "Testing simulation speed and opt timestep seems to be getting in the way here"
   ]
  },
  {
   "cell_type": "code",
   "execution_count": 7,
   "metadata": {},
   "outputs": [
    {
     "name": "stderr",
     "output_type": "stream",
     "text": [
      "\u001b[1m\u001b[32m[robosuite INFO] \u001b[0mLoading controller configuration from: /home/ckong35/workspaces/robosuite/robosuite/controllers/config/robots/default_dualkinova3.json (composite_controller_factory.py:121)\n"
     ]
    },
    {
     "name": "stdout",
     "output_type": "stream",
     "text": [
      "optimal timestep: 0.002\n"
     ]
    },
    {
     "data": {
      "image/png": "[encoded data removed]",
      "text/plain": [
       "<Figure size 640x480 with 1 Axes>"
      ]
     },
     "metadata": {},
     "output_type": "display_data"
    }
   ],
   "source": [
    "from robosuite.robots import register_robot_class\n",
    "from robosuite.models.robots import DualKinova3\n",
    "import robosuite as suite\n",
    "from robosuite.controllers import load_composite_controller_config\n",
    "from robosuite.models.objects import LemonObject, BounceballObject\n",
    "import mujoco\n",
    "import time\n",
    "import numpy as np\n",
    "\n",
    "@register_robot_class(\"WheeledRobot\")\n",
    "class MobileKinova(DualKinova3):\n",
    "    @property # the property alwasys return the string \"OmronMobileBase\" and can be called without parentheses\n",
    "    def default_base(self):\n",
    "        return \"OmronMobileBase\"\n",
    "\n",
    "\n",
    "# Create environment\n",
    "env = suite.make(\n",
    "    env_name=\"Lift\",\n",
    "    # robots=\"MobileKinova\",\n",
    "    robots=\"DualKinova3\",\n",
    "    # controller_configs=load_composite_controller_config(controller=\"BASIC\"),\n",
    "    has_renderer=True,\n",
    "    has_offscreen_renderer=False,\n",
    "    render_camera=\"frontview\",\n",
    "    use_camera_obs=False,\n",
    "    control_freq=20,\n",
    ")\n",
    "ball = BounceballObject(\n",
    "    name\n",
    "    =\"bounceball\", # has to match the model=\"bounceball\" in the xml file\n",
    ")\n",
    "# Get model and data\n",
    "model = env.sim.model._model\n",
    "data = env.sim.data._data\n",
    "\n",
    "# Set smaller timestep for more accurate physics simulation\n",
    "# model.opt.timestep = 0.05  # 0.5ms timestep\n",
    "\n",
    "\n",
    "\n",
    "\n",
    "# Lists to store time, force and position data\n",
    "times = []\n",
    "forces = []\n",
    "z_positions = []\n",
    "contact_object = 'bounceball_g0'\n",
    "simulation_time = 20\n",
    "\n",
    "# ball_body_id = env.sim.model.body_name2id('bounceball_main')\n",
    "\n",
    "with mujoco.viewer.launch_passive(model, data) as viewer:\n",
    "    # Set initial camera parameters\n",
    "    viewer.cam.distance = 3.0\n",
    "    viewer.cam.azimuth = 90\n",
    "    viewer.cam.elevation = -45\n",
    "    viewer.cam.lookat[:] = np.array([0.0, -0.25, 0.824])\n",
    "\n",
    "    start = time.time()\n",
    "    while viewer.is_running() and time.time() - start < simulation_time:\n",
    "        step_start = time.time()\n",
    "        \n",
    "        # data.ctrl[:] = 0  # Disable controller\n",
    "        \n",
    "        # env._apply_gravity_compensation()\n",
    "\n",
    "        ####Controlling the ball ######\n",
    "        # Apply a force to the ball\n",
    "        \n",
    "        # Step the simulation\n",
    "        env.sim.step()\n",
    "        # mujoco.mj_step(model, data)\n",
    "        # env.step(someaction)\n",
    "        # next learn how to use joint position control to hold the robot\n",
    "        \n",
    "        total_force = 0\n",
    "        # # Iterate over all detected contacts\n",
    "        # for i in range(data.ncon):\n",
    "        #     contact = data.contact[i]\n",
    "        #     # Check if contact involves the table and the object of interest\n",
    "        #     if ((contact.geom1 == env.sim.model.geom_name2id('table_collision') and \n",
    "        #         contact.geom2 == env.sim.model.geom_name2id(contact_object)) or\n",
    "        #         (contact.geom2 == env.sim.model.geom_name2id('table_collision') and \n",
    "        #         contact.geom1 == env.sim.model.geom_name2id(contact_object))):\n",
    "                \n",
    "        #         # Compute contact force (6D: 3D force + 3D torque)\n",
    "        #         force_vector = np.zeros(6)\n",
    "        #         mujoco.mj_contactForce(model, data, i, force_vector)\n",
    "                \n",
    "        #         # Extract normal force (first component in the contact frame)\n",
    "        #         normal_force = force_vector[0]\n",
    "        #         total_force += normal_force\n",
    "        \n",
    "        # # Record positions, times, and forces\n",
    "        # ball_body_id = env.sim.model.body_name2id('bounceball_ball')\n",
    "        # z_positions.append(data.xpos[ball_body_id][2])\n",
    "        times.append(data.time)\n",
    "        # forces.append(total_force)  # This now includes the spike\n",
    "        \n",
    "        # Viewer updates (unchanged)\n",
    "        with viewer.lock():\n",
    "            viewer.opt.flags[mujoco.mjtVisFlag.mjVIS_CONTACTPOINT] = 1\n",
    "\n",
    "        viewer.sync()\n",
    "        \n",
    "        # Maintain real-time simulation\n",
    "        time_until_next_step = model.opt.timestep - (time.time() - step_start)\n",
    "        if time_until_next_step > 0:\n",
    "            time.sleep(time_until_next_step)\n",
    "\n",
    "import matplotlib.pyplot as plt\n",
    "# plot time\n",
    "plt.plot(times)\n",
    "print('optimal timestep:', model.opt.timestep)"
   ]
  }
 ],
 "metadata": {
  "kernelspec": {
   "display_name": ".venv",
   "language": "python",
   "name": "python3"
  },
  "language_info": {
   "codemirror_mode": {
    "name": "ipython",
    "version": 3
   },
   "file_extension": ".py",
   "mimetype": "text/x-python",
   "name": "python",
   "nbconvert_exporter": "python",
   "pygments_lexer": "ipython3",
   "version": "3.10.12"
  }
 },
 "nbformat": 4,
 "nbformat_minor": 2
}
