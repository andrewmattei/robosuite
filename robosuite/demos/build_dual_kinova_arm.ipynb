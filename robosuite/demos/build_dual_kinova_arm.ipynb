{
 "cells": [
  {
   "cell_type": "code",
   "execution_count": 8,
   "metadata": {},
   "outputs": [
    {
     "name": "stderr",
     "output_type": "stream",
     "text": [
      "\u001b[1m\u001b[32m[robosuite INFO] \u001b[0mLoading controller configuration from: /home/ckong35/workspaces/robosuite/robosuite/controllers/config/default/composite/basic.json (composite_controller_factory.py:121)\n",
      "\u001b[1m\u001b[33m[robosuite WARNING] \u001b[0mThe config has defined for the controller \"left\", but the robot does not have this component. Skipping, but make sure this is intended.Removing the controller config for left from self.part_controller_config. (robot.py:151)\n",
      "\u001b[1m\u001b[33m[robosuite WARNING] \u001b[0mThe config has defined for the controller \"head\", but the robot does not have this component. Skipping, but make sure this is intended.Removing the controller config for head from self.part_controller_config. (robot.py:151)\n",
      "\u001b[1m\u001b[33m[robosuite WARNING] \u001b[0mThe config has defined for the controller \"legs\", but the robot does not have this component. Skipping, but make sure this is intended.Removing the controller config for legs from self.part_controller_config. (robot.py:151)\n",
      "\u001b[1m\u001b[33m[robosuite WARNING] \u001b[0mThe config has defined for the controller \"left\", but the robot does not have this component. Skipping, but make sure this is intended.Removing the controller config for left from self.part_controller_config. (robot.py:151)\n",
      "\u001b[1m\u001b[33m[robosuite WARNING] \u001b[0mThe config has defined for the controller \"head\", but the robot does not have this component. Skipping, but make sure this is intended.Removing the controller config for head from self.part_controller_config. (robot.py:151)\n",
      "\u001b[1m\u001b[33m[robosuite WARNING] \u001b[0mThe config has defined for the controller \"legs\", but the robot does not have this component. Skipping, but make sure this is intended.Removing the controller config for legs from self.part_controller_config. (robot.py:151)\n"
     ]
    }
   ],
   "source": [
    "from robosuite.robots import register_robot_class\n",
    "from robosuite.models.robots import Kinova3\n",
    "import robosuite as suite\n",
    "from robosuite.controllers import load_composite_controller_config\n",
    "import mujoco\n",
    "\n",
    "@register_robot_class(\"WheeledRobot\")\n",
    "class MobileKinova(Kinova3):\n",
    "    @property # the property alwasys return the string \"OmronMobileBase\" and can be called without parentheses\n",
    "    def default_base(self):\n",
    "        return \"OmronMobileBase\"\n",
    "\n",
    "    # @property\n",
    "    # def default_arms(self):\n",
    "    #     return {\"right\": \"Kinova3\"}\n",
    "\n",
    "# Create environment\n",
    "env = suite.make(\n",
    "    env_name=\"Lift\",\n",
    "    robots=\"MobileKinova\",\n",
    "    controller_configs=load_composite_controller_config(controller=\"BASIC\"),\n",
    "    has_renderer=True,\n",
    "    has_offscreen_renderer=False,\n",
    "    render_camera=\"agentview\",\n",
    "    use_camera_obs=False,\n",
    "    control_freq=20,\n",
    ")\n",
    "\n",
    "# Run the simulation, and visualize it\n",
    "env.reset()\n",
    "mujoco.viewer.launch(env.sim.model._model, env.sim.data._data)"
   ]
  },
  {
   "cell_type": "code",
   "execution_count": 7,
   "metadata": {},
   "outputs": [
    {
     "name": "stderr",
     "output_type": "stream",
     "text": [
      "\u001b[1m\u001b[32m[robosuite INFO] \u001b[0mLoading controller configuration from: /home/ckong35/workspaces/robosuite/robosuite/controllers/config/default/composite/basic.json (composite_controller_factory.py:121)\n",
      "\u001b[1m\u001b[33m[robosuite WARNING] \u001b[0mThe config has defined for the controller \"head\", but the robot does not have this component. Skipping, but make sure this is intended.Removing the controller config for head from self.part_controller_config. (robot.py:151)\n",
      "\u001b[1m\u001b[33m[robosuite WARNING] \u001b[0mThe config has defined for the controller \"legs\", but the robot does not have this component. Skipping, but make sure this is intended.Removing the controller config for legs from self.part_controller_config. (robot.py:151)\n",
      "\u001b[1m\u001b[33m[robosuite WARNING] \u001b[0mThe config has defined for the controller \"head\", but the robot does not have this component. Skipping, but make sure this is intended.Removing the controller config for head from self.part_controller_config. (robot.py:151)\n",
      "\u001b[1m\u001b[33m[robosuite WARNING] \u001b[0mThe config has defined for the controller \"legs\", but the robot does not have this component. Skipping, but make sure this is intended.Removing the controller config for legs from self.part_controller_config. (robot.py:151)\n"
     ]
    }
   ],
   "source": [
    "from robosuite.robots import register_robot_class\n",
    "from robosuite_models.robots import Yumi\n",
    "import robosuite as suite\n",
    "from robosuite.controllers import load_composite_controller_config\n",
    "import mujoco\n",
    "\n",
    "@register_robot_class(\"WheeledRobot\")\n",
    "class MobileYumi(Yumi):\n",
    "    @property # the property alwasys return the string \"OmronMobileBase\" and can be called without parentheses\n",
    "    def default_base(self):\n",
    "        return \"OmronMobileBase\"\n",
    "\n",
    "    # def set_base_xpos(self, xpos):\n",
    "    #     # Convert tuple to list to modify it\n",
    "    #     xpos = list(xpos)\n",
    "    #     # Move the base 0.3 meters above the current location\n",
    "    #     xpos[2] += 0.3\n",
    "    #     # Convert back to tuple if necessary\n",
    "    #     xpos = tuple(xpos)\n",
    "    #     super().set_base_xpos(xpos)\n",
    "\n",
    "\n",
    "# Create environment\n",
    "env = suite.make(\n",
    "    env_name=\"Lift\",\n",
    "    robots=\"MobileYumi\",\n",
    "    controller_configs=load_composite_controller_config(controller=\"BASIC\"),\n",
    "    has_renderer=True,\n",
    "    has_offscreen_renderer=False,\n",
    "    render_camera=\"agentview\",\n",
    "    use_camera_obs=False,\n",
    "    control_freq=20,\n",
    ")\n",
    "\n",
    "# Run the simulation, and visualize it\n",
    "env.reset()\n",
    "mujoco.viewer.launch(env.sim.model._model, env.sim.data._data)"
   ]
  },
  {
   "cell_type": "markdown",
   "metadata": {},
   "source": [
    "(01/21/25) The file of the vention base has been centered and converted to STL, tomorrow will include it into the xml file. Might want to investigate why the addition of mobile base is bad all fixed"
   ]
  },
  {
   "cell_type": "code",
   "execution_count": 6,
   "metadata": {},
   "outputs": [
    {
     "name": "stderr",
     "output_type": "stream",
     "text": [
      "\u001b[1m\u001b[32m[robosuite INFO] \u001b[0mLoading controller configuration from: /home/ckong35/workspaces/robosuite/robosuite/controllers/config/robots/default_dualkinova3.json (composite_controller_factory.py:121)\n",
      "\u001b[1m\u001b[32m[robosuite INFO] \u001b[0mLoading controller configuration from: /home/ckong35/workspaces/robosuite/robosuite/controllers/config/robots/default_dualkinova3.json (composite_controller_factory.py:121)\n"
     ]
    }
   ],
   "source": [
    "from robosuite.robots import register_robot_class\n",
    "from robosuite.models.robots import DualKinova3\n",
    "import robosuite as suite\n",
    "from robosuite.controllers import load_composite_controller_config\n",
    "import mujoco\n",
    "\n",
    "@register_robot_class(\"WheeledRobot\")\n",
    "class MobileKinova(DualKinova3):\n",
    "    @property # the property alwasys return the string \"OmronMobileBase\" and can be called without parentheses\n",
    "    def default_base(self):\n",
    "        return \"OmronMobileBase\"\n",
    "\n",
    "\n",
    "# Create environment\n",
    "env = suite.make(\n",
    "    env_name=\"Lift\",\n",
    "    # robots=\"MobileKinova\",\n",
    "    robots=\"DualKinova3\",\n",
    "    controller_configs=load_composite_controller_config(controller=\"BASIC\"),\n",
    "    has_renderer=True,\n",
    "    has_offscreen_renderer=False,\n",
    "    render_camera=\"frontview\",\n",
    "    use_camera_obs=False,\n",
    "    control_freq=20,\n",
    ")\n",
    "\n",
    "# Run the simulation, and visualize it\n",
    "env.reset()\n",
    "mujoco.viewer.launch(env.sim.model._model, env.sim.data._data)"
   ]
  },
  {
   "cell_type": "markdown",
   "metadata": {},
   "source": [
    "(01/22/25) Next explore controller and see if I can use the manipulability elipsoid to generate trajectory that smack a point in 3d space "
   ]
  },
  {
   "cell_type": "markdown",
   "metadata": {},
   "source": [
    "Testing simulation speed and opt timestep seems to be getting in the way here"
   ]
  },
  {
   "cell_type": "code",
   "execution_count": 1,
   "metadata": {},
   "outputs": [
    {
     "name": "stderr",
     "output_type": "stream",
     "text": [
      "\u001b[1m\u001b[32m[robosuite INFO] \u001b[0mLoading controller configuration from: /home/ckong35/workspaces/robosuite/robosuite/controllers/config/robots/default_dualkinova3.json (composite_controller_factory.py:121)\n"
     ]
    },
    {
     "name": "stdout",
     "output_type": "stream",
     "text": [
      "optimal timestep: 0.002\n"
     ]
    },
    {
     "data": {
      "image/png": "[encoded data removed]",
      "text/plain": [
       "<Figure size 640x480 with 1 Axes>"
      ]
     },
     "metadata": {},
     "output_type": "display_data"
    }
   ],
   "source": [
    "from robosuite.robots import register_robot_class\n",
    "from robosuite.models.robots import DualKinova3\n",
    "import robosuite as suite\n",
    "from robosuite.controllers import load_composite_controller_config\n",
    "from robosuite.models.objects import LemonObject, BounceballObject\n",
    "import mujoco\n",
    "import time\n",
    "import numpy as np\n",
    "\n",
    "@register_robot_class(\"WheeledRobot\")\n",
    "class MobileKinova(DualKinova3):\n",
    "    @property # the property alwasys return the string \"OmronMobileBase\" and can be called without parentheses\n",
    "    def default_base(self):\n",
    "        return \"OmronMobileBase\"\n",
    "\n",
    "\n",
    "# Create environment\n",
    "env = suite.make(\n",
    "    env_name=\"Lift\",\n",
    "    # robots=\"MobileKinova\",\n",
    "    robots=\"DualKinova3\",\n",
    "    # controller_configs=load_composite_controller_config(controller=\"BASIC\"),\n",
    "    has_renderer=True,\n",
    "    has_offscreen_renderer=False,\n",
    "    render_camera=\"frontview\",\n",
    "    use_camera_obs=False,\n",
    "    control_freq=20,\n",
    ")\n",
    "ball = BounceballObject(\n",
    "    name\n",
    "    =\"bounceball\", # has to match the model=\"bounceball\" in the xml file\n",
    ")\n",
    "# Get model and data\n",
    "model = env.sim.model._model\n",
    "data = env.sim.data._data\n",
    "\n",
    "# Set smaller timestep for more accurate physics simulation\n",
    "# model.opt.timestep = 0.05  # 0.5ms timestep\n",
    "\n",
    "\n",
    "\n",
    "\n",
    "# Lists to store time, force and position data\n",
    "times = []\n",
    "forces = []\n",
    "z_positions = []\n",
    "contact_object = 'bounceball_g0'\n",
    "simulation_time = 10\n",
    "\n",
    "# ball_body_id = env.sim.model.body_name2id('bounceball_main')\n",
    "\n",
    "with mujoco.viewer.launch_passive(model, data) as viewer:\n",
    "    # Set initial camera parameters\n",
    "    viewer.cam.distance = 3.0\n",
    "    viewer.cam.azimuth = 90\n",
    "    viewer.cam.elevation = -45\n",
    "    viewer.cam.lookat[:] = np.array([0.0, -0.25, 0.824])\n",
    "\n",
    "    start = time.time()\n",
    "    while viewer.is_running() and time.time() - start < simulation_time:\n",
    "        step_start = time.time()\n",
    "        \n",
    "        # data.ctrl[:] = 0  # Disable controller\n",
    "        \n",
    "        # env._apply_gravity_compensation()\n",
    "\n",
    "        ####Controlling the ball ######\n",
    "        # Apply a force to the ball\n",
    "        \n",
    "        # Step the simulation\n",
    "        env.sim.step()\n",
    "        # mujoco.mj_step(model, data)\n",
    "        # env.step(someaction)\n",
    "        # next learn how to use joint position control to hold the robot\n",
    "        \n",
    "        total_force = 0\n",
    "        # # Iterate over all detected contacts\n",
    "        # for i in range(data.ncon):\n",
    "        #     contact = data.contact[i]\n",
    "        #     # Check if contact involves the table and the object of interest\n",
    "        #     if ((contact.geom1 == env.sim.model.geom_name2id('table_collision') and \n",
    "        #         contact.geom2 == env.sim.model.geom_name2id(contact_object)) or\n",
    "        #         (contact.geom2 == env.sim.model.geom_name2id('table_collision') and \n",
    "        #         contact.geom1 == env.sim.model.geom_name2id(contact_object))):\n",
    "                \n",
    "        #         # Compute contact force (6D: 3D force + 3D torque)\n",
    "        #         force_vector = np.zeros(6)\n",
    "        #         mujoco.mj_contactForce(model, data, i, force_vector)\n",
    "                \n",
    "        #         # Extract normal force (first component in the contact frame)\n",
    "        #         normal_force = force_vector[0]\n",
    "        #         total_force += normal_force\n",
    "        \n",
    "        # # Record positions, times, and forces\n",
    "        # ball_body_id = env.sim.model.body_name2id('bounceball_ball')\n",
    "        # z_positions.append(data.xpos[ball_body_id][2])\n",
    "        times.append(data.time)\n",
    "        # forces.append(total_force)  # This now includes the spike\n",
    "        \n",
    "        # Viewer updates (unchanged)\n",
    "        with viewer.lock():\n",
    "            viewer.opt.flags[mujoco.mjtVisFlag.mjVIS_CONTACTPOINT] = 1\n",
    "\n",
    "        viewer.sync()\n",
    "        \n",
    "        # Maintain real-time simulation\n",
    "        time_until_next_step = model.opt.timestep - (time.time() - step_start)\n",
    "        if time_until_next_step > 0:\n",
    "            time.sleep(time_until_next_step)\n",
    "\n",
    "import matplotlib.pyplot as plt\n",
    "# plot time\n",
    "plt.plot(times)\n",
    "print('optimal timestep:', model.opt.timestep)"
   ]
  }
 ],
 "metadata": {
  "kernelspec": {
   "display_name": ".venv",
   "language": "python",
   "name": "python3"
  },
  "language_info": {
   "codemirror_mode": {
    "name": "ipython",
    "version": 3
   },
   "file_extension": ".py",
   "mimetype": "text/x-python",
   "name": "python",
   "nbconvert_exporter": "python",
   "pygments_lexer": "ipython3",
   "version": "3.10.12"
  }
 },
 "nbformat": 4,
 "nbformat_minor": 2
}
