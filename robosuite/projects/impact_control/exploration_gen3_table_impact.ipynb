{
 "cells": [
  {
   "cell_type": "code",
   "execution_count": 20,
   "metadata": {},
   "outputs": [
    {
     "name": "stdout",
     "output_type": "stream",
     "text": [
      "Initial EE Position: [-0.14754875 -0.02330741  0.942508  ]\n"
     ]
    }
   ],
   "source": [
    "import robosuite as suite\n",
    "from robosuite.controllers import load_controller_config\n",
    "\n",
    "controller_config = load_controller_config(default_controller=\"OSC_POSITION\")\n",
    "controller_config[\"control_delta\"] = False\n",
    "\n",
    "# Load the environment with Kinova Gen3\n",
    "env = suite.make(\n",
    "    env_name=\"Lift\",  # Choose an appropriate environment or customize\n",
    "    robots=\"Kinova3\", # Load the Kinova Gen3 robot\n",
    "    controller_configs=controller_config,  # Use Operational Space Controller\n",
    "\n",
    "    has_renderer=True,\n",
    "    render_camera=\"sideview\",  # Choose a camera for rendering\n",
    "    ignore_done=True,\n",
    "    use_camera_obs=False,\n",
    "    has_offscreen_renderer=False,\n",
    "    control_freq=20\n",
    ")\n",
    "\n",
    "# Reset environment and extract robot\n",
    "obs = env.reset()\n",
    "\n",
    "# disable delta control\n",
    "env.robots[0].controller.control_delta = False\n",
    "# print(\"env.robots[0].controller.control_delta:\", env.robots[0].controller.control_delta)\n",
    "\n",
    "# Get initial position (e.g., a position just above the table)\n",
    "initial_pose = env.robots[0].controller.initial_ee_pos\n",
    "print(\"Initial EE Position:\", initial_pose)\n"
   ]
  },
  {
   "cell_type": "code",
   "execution_count": 21,
   "metadata": {},
   "outputs": [],
   "source": [
    "import numpy as np\n",
    "import matplotlib.pyplot as plt\n",
    "# Create a downward trajectory\n",
    "def downward_trajectory(initial_pose, velocity=2.0, z_offset=0.2, duration=5.0):\n",
    "    # Compute the target position\n",
    "    target_pose = np.array(initial_pose)\n",
    "    target_pose[2] -= z_offset\n",
    "\n",
    "    # Compute the number of steps\n",
    "    n_steps = int(duration * env.control_freq)\n",
    "    steps = np.linspace(0, 1, n_steps)\n",
    "\n",
    "    # Compute the trajectory\n",
    "    trajectory = []\n",
    "    for s in steps:\n",
    "        # Linear interpolation\n",
    "        # pose = (1 - s) * np.array(initial_pose) + s * target_pose\n",
    "        # satisfy the velocity constraint\n",
    "        pose = np.array(initial_pose)\n",
    "        pose[2] -= velocity * duration * s\n",
    "        if pose[2] < target_pose[2]:\n",
    "            pose[2] = target_pose[2]\n",
    "        trajectory.append(pose)\n",
    "    return np.array(trajectory)\n",
    "\n",
    "\n",
    "\n",
    "# # Visualize the downward trajectory\n",
    "# trajectory = downward_trajectory(initial_pose)\n",
    "# trajectory = np.array(trajectory)\n",
    "# plt.plot(trajectory[:, 2])\n",
    "# plt.xlabel(\"Time Step\")\n",
    "# plt.ylabel(\"Z-axis Position\")\n",
    "# plt.title(\"Downward Trajectory\")\n",
    "# plt.show()\n"
   ]
  },
  {
   "cell_type": "code",
   "execution_count": 22,
   "metadata": {},
   "outputs": [
    {
     "name": "stdout",
     "output_type": "stream",
     "text": [
      "Initial EE Position: [-0.12208467 -0.01487857  0.9581519 ]\n",
      "Initial EE Orientation: [[-0.04765927  0.99872449  0.01667306]\n",
      " [ 0.99855082  0.04805543 -0.02422675]\n",
      " [-0.02499708  0.01549427 -0.99956744]]\n"
     ]
    },
    {
     "data": {
      "text/plain": [
       "Text(0, 0.5, 'Z-axis Position')"
      ]
     },
     "execution_count": 22,
     "metadata": {},
     "output_type": "execute_result"
    },
    {
     "data": {
      "image/png": "[encoded data removed]",
      "text/plain": [
       "<Figure size 640x480 with 1 Axes>"
      ]
     },
     "metadata": {},
     "output_type": "display_data"
    }
   ],
   "source": [
    "import time\n",
    "# Reset environment and extract robot\n",
    "obs = env.reset()\n",
    "robot_pose = []\n",
    "t_sim = []\n",
    "\n",
    "# Get initial position (e.g., a position just above the table)\n",
    "initial_pose = env.robots[0].controller.initial_ee_pos\n",
    "initial_orientation = env.robots[0].controller.initial_ee_ori_mat\n",
    "print(\"Initial EE Position:\", initial_pose)\n",
    "print(\"Initial EE Orientation:\", initial_orientation)\n",
    "\n",
    "# Get the downward trajectory\n",
    "trajectory = downward_trajectory(initial_pose)\n",
    "\n",
    "# set the render frequency\n",
    "time_per_step = 1.0 / env.control_freq\n",
    "\n",
    "for step in trajectory:\n",
    "    start_time = time.time()\n",
    "\n",
    "    # Set the controller goal to each position in the trajectory\n",
    "    action = np.concatenate([step, (1,)])\n",
    "\n",
    "    obs, reward, done, info = env.step(action)\n",
    "    # change camera view\n",
    "    # env.render_camera = 'sideview'\n",
    "    env.render()  # Render the environment for visualization\n",
    "    robot_pose.append(env.robots[0].controller.ee_pos)\n",
    "    t_sim.append(env.sim.data.time)\n",
    "\n",
    "    # sync the simulation to real-time \n",
    "    elapsed_time = time.time() - start_time\n",
    "    sleep_time = time_per_step - elapsed_time\n",
    "    if sleep_time > 0:\n",
    "        time.sleep(sleep_time)\n",
    "\n",
    "## Check for collision/contacts\n",
    "# contacts = env.sim.data.contact  # Get contacts\n",
    "# for contact in contacts:\n",
    "#     print(f\"Contact between geom1: {contact.geom1}, geom2: {contact.geom2}\")\n",
    "\n",
    "\n",
    "# Close the environment\n",
    "env.close()\n",
    "\n",
    "# plot robot pose over the desired trajectory\n",
    "robot_pose = np.array(robot_pose)\n",
    "plt.plot(t_sim, robot_pose[:, 2], label=\"actual\")\n",
    "plt.plot(t_sim, trajectory[:, 2], label=\"desired\")\n",
    "plt.xlabel(\"Time (s)\")\n",
    "plt.ylabel(\"Z-axis Position\")\n"
   ]
  }
 ],
 "metadata": {
  "kernelspec": {
   "display_name": ".venv",
   "language": "python",
   "name": "python3"
  },
  "language_info": {
   "codemirror_mode": {
    "name": "ipython",
    "version": 3
   },
   "file_extension": ".py",
   "mimetype": "text/x-python",
   "name": "python",
   "nbconvert_exporter": "python",
   "pygments_lexer": "ipython3",
   "version": "3.10.12"
  }
 },
 "nbformat": 4,
 "nbformat_minor": 2
}
